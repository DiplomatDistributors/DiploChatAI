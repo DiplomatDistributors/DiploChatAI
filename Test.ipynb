{
 "cells": [
  {
   "cell_type": "code",
   "execution_count": 1,
   "metadata": {},
   "outputs": [],
   "source": [
    "import pandas as pd\n",
    "import numpy as np\n",
    "from Dataloader import *"
   ]
  },
  {
   "cell_type": "code",
   "execution_count": 2,
   "metadata": {},
   "outputs": [],
   "source": [
    "loader = DataLoader()\n",
    "dataframes = loader.load_parquets()"
   ]
  },
  {
   "cell_type": "code",
   "execution_count": 3,
   "metadata": {},
   "outputs": [],
   "source": [
    "chp, inv_df, stnx_sales, stnx_items  = dataframes['chp'] , dataframes['inv_df'] , dataframes['stnx_sales'] , dataframes['stnx_items'] \n",
    "customer_df, industry_df, material_df, dt_df, log_df = dataframes['customer_df'] , dataframes['industry_df'] , dataframes['material_df'] , dataframes['dt_df'] , dataframes['log_df']"
   ]
  },
  {
   "cell_type": "markdown",
   "metadata": {},
   "source": [
    "##### Stornext"
   ]
  },
  {
   "cell_type": "code",
   "execution_count": 4,
   "metadata": {},
   "outputs": [
    {
     "data": {
      "text/html": [
       "<div>\n",
       "<style scoped>\n",
       "    .dataframe tbody tr th:only-of-type {\n",
       "        vertical-align: middle;\n",
       "    }\n",
       "\n",
       "    .dataframe tbody tr th {\n",
       "        vertical-align: top;\n",
       "    }\n",
       "\n",
       "    .dataframe thead th {\n",
       "        text-align: right;\n",
       "    }\n",
       "</style>\n",
       "<table border=\"1\" class=\"dataframe\">\n",
       "  <thead>\n",
       "    <tr style=\"text-align: right;\">\n",
       "      <th></th>\n",
       "      <th>Day</th>\n",
       "      <th>Barcode</th>\n",
       "      <th>Format_Name</th>\n",
       "      <th>Sales_NIS</th>\n",
       "      <th>Sales_Units</th>\n",
       "      <th>Price_Per_Unit</th>\n",
       "    </tr>\n",
       "  </thead>\n",
       "  <tbody>\n",
       "    <tr>\n",
       "      <th>0</th>\n",
       "      <td>2025-01-19</td>\n",
       "      <td>3574661401140</td>\n",
       "      <td>רשתות ארציות דיסקאונט</td>\n",
       "      <td>17756.465251</td>\n",
       "      <td>1186.026025</td>\n",
       "      <td>14.971396</td>\n",
       "    </tr>\n",
       "    <tr>\n",
       "      <th>1</th>\n",
       "      <td>2025-02-02</td>\n",
       "      <td>3800093511523</td>\n",
       "      <td>שוק פרטי דיסקאונט</td>\n",
       "      <td>1400.159442</td>\n",
       "      <td>124.472222</td>\n",
       "      <td>11.248770</td>\n",
       "    </tr>\n",
       "  </tbody>\n",
       "</table>\n",
       "</div>"
      ],
      "text/plain": [
       "         Day        Barcode            Format_Name     Sales_NIS  Sales_Units  \\\n",
       "0 2025-01-19  3574661401140  רשתות ארציות דיסקאונט  17756.465251  1186.026025   \n",
       "1 2025-02-02  3800093511523      שוק פרטי דיסקאונט   1400.159442   124.472222   \n",
       "\n",
       "   Price_Per_Unit  \n",
       "0       14.971396  \n",
       "1       11.248770  "
      ]
     },
     "execution_count": 4,
     "metadata": {},
     "output_type": "execute_result"
    }
   ],
   "source": [
    "stnx_sales.head(2)\n",
    "\n",
    "# - `Day`: The calendar date on which the product was sold.  \n",
    "# - `Barcode`: A unique identifier for the sold product.  \n",
    "# - `Format_Name`: The retail format in which it was sold.  \n",
    "# - `Sales_NIS`: The total revenue (in shekels) generated from sales of the product on that specific day.  \n",
    "# - `Sales_Units`: The total number of product units sold on that specific day.  \n",
    "# - `Price_Per_Unit`: The average price per unit for that product on that specific day, calculated as Sales_NIS divided by Sales_Units. \n",
    "#                     This is an aggregated metric reflecting the observed average selling price, which may vary due to promotions or price changes.\n"
   ]
  },
  {
   "cell_type": "code",
   "execution_count": 24,
   "metadata": {},
   "outputs": [
    {
     "data": {
      "text/html": [
       "<div>\n",
       "<style scoped>\n",
       "    .dataframe tbody tr th:only-of-type {\n",
       "        vertical-align: middle;\n",
       "    }\n",
       "\n",
       "    .dataframe tbody tr th {\n",
       "        vertical-align: top;\n",
       "    }\n",
       "\n",
       "    .dataframe thead th {\n",
       "        text-align: right;\n",
       "    }\n",
       "</style>\n",
       "<table border=\"1\" class=\"dataframe\">\n",
       "  <thead>\n",
       "    <tr style=\"text-align: right;\">\n",
       "      <th></th>\n",
       "      <th>Barcode</th>\n",
       "      <th>Item_Name</th>\n",
       "      <th>Category_Name</th>\n",
       "      <th>Sub_Category_Name</th>\n",
       "      <th>Brand_Name</th>\n",
       "      <th>Sub_Brand_Name</th>\n",
       "      <th>Supplier_Name</th>\n",
       "    </tr>\n",
       "  </thead>\n",
       "  <tbody>\n",
       "    <tr>\n",
       "      <th>0</th>\n",
       "      <td>7290000415338</td>\n",
       "      <td>יסמין קבב ביתי 500 ג</td>\n",
       "      <td>מוצרי בשר על האש</td>\n",
       "      <td>קבב</td>\n",
       "      <td>יסמין</td>\n",
       "      <td>יסמין</td>\n",
       "      <td>יסמין יצור ושיווק מוצרים עת-רן</td>\n",
       "    </tr>\n",
       "    <tr>\n",
       "      <th>1</th>\n",
       "      <td>7290003287420</td>\n",
       "      <td>פילה סלמון מעושן נורבגי 100 גרם בד\"ץ עדה חרדתית</td>\n",
       "      <td>דגים קפואים בואקום</td>\n",
       "      <td>דג סלמון בואקום</td>\n",
       "      <td>בלדי</td>\n",
       "      <td>בלדי</td>\n",
       "      <td>בלדי</td>\n",
       "    </tr>\n",
       "  </tbody>\n",
       "</table>\n",
       "</div>"
      ],
      "text/plain": [
       "         Barcode                                        Item_Name  \\\n",
       "0  7290000415338                             יסמין קבב ביתי 500 ג   \n",
       "1  7290003287420  פילה סלמון מעושן נורבגי 100 גרם בד\"ץ עדה חרדתית   \n",
       "\n",
       "        Category_Name Sub_Category_Name Brand_Name Sub_Brand_Name  \\\n",
       "0    מוצרי בשר על האש               קבב      יסמין          יסמין   \n",
       "1  דגים קפואים בואקום   דג סלמון בואקום       בלדי           בלדי   \n",
       "\n",
       "                    Supplier_Name  \n",
       "0  יסמין יצור ושיווק מוצרים עת-רן  \n",
       "1                            בלדי  "
      ]
     },
     "execution_count": 24,
     "metadata": {},
     "output_type": "execute_result"
    }
   ],
   "source": [
    "stnx_items.head(2)\n",
    "# - `Barcode`: A unique identifier that links each product to its sales records.  \n",
    "# - `Item_Name`: The official name or label of the product.  \n",
    "# - `Category_Name`: The main product category (e.g., dairy, snacks, cleaning products).  \n",
    "# - `Sub_Category_Name`: A more specific classification within the main category.  \n",
    "# - `Brand_Name`: The commercial brand under which the product is marketed.  \n",
    "# - `Sub_Brand_Name`: A secondary brand or product line, if applicable.  \n",
    "# - `Supplier_Name`: The name of the company or distributor responsible for supplying the product."
   ]
  },
  {
   "cell_type": "markdown",
   "metadata": {},
   "source": [
    "##### Chp"
   ]
  },
  {
   "cell_type": "code",
   "execution_count": 6,
   "metadata": {},
   "outputs": [
    {
     "data": {
      "text/html": [
       "<div>\n",
       "<style scoped>\n",
       "    .dataframe tbody tr th:only-of-type {\n",
       "        vertical-align: middle;\n",
       "    }\n",
       "\n",
       "    .dataframe tbody tr th {\n",
       "        vertical-align: top;\n",
       "    }\n",
       "\n",
       "    .dataframe thead th {\n",
       "        text-align: right;\n",
       "    }\n",
       "</style>\n",
       "<table border=\"1\" class=\"dataframe\">\n",
       "  <thead>\n",
       "    <tr style=\"text-align: right;\">\n",
       "      <th></th>\n",
       "      <th>DATE</th>\n",
       "      <th>BARCODE</th>\n",
       "      <th>CHAIN</th>\n",
       "      <th>AVG_PRICE</th>\n",
       "      <th>AVG_SELLOUT_PRICE</th>\n",
       "      <th>SELLOUT_DESCRIPTION</th>\n",
       "      <th>NUMBER_OF_STORES</th>\n",
       "    </tr>\n",
       "  </thead>\n",
       "  <tbody>\n",
       "    <tr>\n",
       "      <th>0</th>\n",
       "      <td>2024-12-22</td>\n",
       "      <td>4005808293469</td>\n",
       "      <td>סופר פארם</td>\n",
       "      <td>19.9</td>\n",
       "      <td>14.45</td>\n",
       "      <td>קנה אחד  קבל את השני ב- 9.00 ש\"ח  (מחיר ליחידה...</td>\n",
       "      <td>1</td>\n",
       "    </tr>\n",
       "    <tr>\n",
       "      <th>1</th>\n",
       "      <td>2024-12-22</td>\n",
       "      <td>4005808588640</td>\n",
       "      <td>כל בו חצי חינם</td>\n",
       "      <td>14.9</td>\n",
       "      <td>NaN</td>\n",
       "      <td></td>\n",
       "      <td>8</td>\n",
       "    </tr>\n",
       "  </tbody>\n",
       "</table>\n",
       "</div>"
      ],
      "text/plain": [
       "        DATE        BARCODE           CHAIN  AVG_PRICE  AVG_SELLOUT_PRICE  \\\n",
       "0 2024-12-22  4005808293469       סופר פארם       19.9              14.45   \n",
       "1 2024-12-22  4005808588640  כל בו חצי חינם       14.9                NaN   \n",
       "\n",
       "                                 SELLOUT_DESCRIPTION  NUMBER_OF_STORES  \n",
       "0  קנה אחד  קבל את השני ב- 9.00 ש\"ח  (מחיר ליחידה...                 1  \n",
       "1                                                                    8  "
      ]
     },
     "execution_count": 6,
     "metadata": {},
     "output_type": "execute_result"
    }
   ],
   "source": [
    "chp.head(2)\n",
    "# - `DATE`: The date of the price observation.  \n",
    "# - `BARCODE`: A unique identifier for the product, linking it to descriptions in `stnx_items`.  \n",
    "# - `CHAIN`: The name of the supermarket chain where the price was recorded.  \n",
    "# - `AVG_PRICE`: The average base price of the product across all reporting stores within the chain.  \n",
    "# - `AVG_SELLOUT_PRICE`: The average promotional price, if available. If null, it indicates no promotion.  \n",
    "# - `SELLOUT_DESCRIPTION`: A Hebrew description of any active promotion, providing context for `AVG_SELLOUT_PRICE`.  \n",
    "# - `NUMBER_OF_STORES`: The number of stores within the chain that reported carrying the product on that date.\n"
   ]
  },
  {
   "cell_type": "markdown",
   "metadata": {},
   "source": [
    "##### Hebrew Calander"
   ]
  },
  {
   "cell_type": "code",
   "execution_count": 7,
   "metadata": {},
   "outputs": [
    {
     "data": {
      "text/html": [
       "<div>\n",
       "<style scoped>\n",
       "    .dataframe tbody tr th:only-of-type {\n",
       "        vertical-align: middle;\n",
       "    }\n",
       "\n",
       "    .dataframe tbody tr th {\n",
       "        vertical-align: top;\n",
       "    }\n",
       "\n",
       "    .dataframe thead th {\n",
       "        text-align: right;\n",
       "    }\n",
       "</style>\n",
       "<table border=\"1\" class=\"dataframe\">\n",
       "  <thead>\n",
       "    <tr style=\"text-align: right;\">\n",
       "      <th></th>\n",
       "      <th>DATE</th>\n",
       "      <th>HEBREW_DATE</th>\n",
       "      <th>HOLIDAY</th>\n",
       "    </tr>\n",
       "  </thead>\n",
       "  <tbody>\n",
       "    <tr>\n",
       "      <th>0</th>\n",
       "      <td>2024-03-03</td>\n",
       "      <td>כ״ג אדר א׳ תשפ״ד</td>\n",
       "      <td>None</td>\n",
       "    </tr>\n",
       "    <tr>\n",
       "      <th>1</th>\n",
       "      <td>2024-03-04</td>\n",
       "      <td>כ״ד אדר א׳ תשפ״ד</td>\n",
       "      <td>None</td>\n",
       "    </tr>\n",
       "  </tbody>\n",
       "</table>\n",
       "</div>"
      ],
      "text/plain": [
       "        DATE       HEBREW_DATE HOLIDAY\n",
       "0 2024-03-03  כ״ג אדר א׳ תשפ״ד    None\n",
       "1 2024-03-04  כ״ד אדר א׳ תשפ״ד    None"
      ]
     },
     "execution_count": 7,
     "metadata": {},
     "output_type": "execute_result"
    }
   ],
   "source": [
    "dt_df.head(2)\n",
    "# - `DATE`: The Gregorian calendar date.    \n",
    "# - 'HEBREW_DATE': The corresponding Hebrew calendar date, represented as a string.\n",
    "# - 'HOLIDAY':  The name of the Jewish holiday on that date, if applicable. If no holiday occurs on the date, this field will be null."
   ]
  },
  {
   "cell_type": "markdown",
   "metadata": {},
   "source": [
    "##### Invoices"
   ]
  },
  {
   "cell_type": "code",
   "execution_count": 8,
   "metadata": {},
   "outputs": [
    {
     "data": {
      "text/html": [
       "<div>\n",
       "<style scoped>\n",
       "    .dataframe tbody tr th:only-of-type {\n",
       "        vertical-align: middle;\n",
       "    }\n",
       "\n",
       "    .dataframe tbody tr th {\n",
       "        vertical-align: top;\n",
       "    }\n",
       "\n",
       "    .dataframe thead th {\n",
       "        text-align: right;\n",
       "    }\n",
       "</style>\n",
       "<table border=\"1\" class=\"dataframe\">\n",
       "  <thead>\n",
       "    <tr style=\"text-align: right;\">\n",
       "      <th></th>\n",
       "      <th>DATE</th>\n",
       "      <th>SALES_ORGANIZATION_CODE</th>\n",
       "      <th>MATERIAL_CODE</th>\n",
       "      <th>INDUSTRY_CODE</th>\n",
       "      <th>CUSTOMER_CODE</th>\n",
       "      <th>Gross</th>\n",
       "      <th>Net</th>\n",
       "      <th>Net VAT</th>\n",
       "      <th>Gross VAT</th>\n",
       "      <th>Units</th>\n",
       "    </tr>\n",
       "  </thead>\n",
       "  <tbody>\n",
       "    <tr>\n",
       "      <th>0</th>\n",
       "      <td>2024-10-01</td>\n",
       "      <td>5000</td>\n",
       "      <td>2568531</td>\n",
       "      <td>5032</td>\n",
       "      <td>11057044</td>\n",
       "      <td>12.0</td>\n",
       "      <td>12.0</td>\n",
       "      <td>14.0</td>\n",
       "      <td>14.0</td>\n",
       "      <td>1.0</td>\n",
       "    </tr>\n",
       "    <tr>\n",
       "      <th>1</th>\n",
       "      <td>2024-10-01</td>\n",
       "      <td>5000</td>\n",
       "      <td>2568531</td>\n",
       "      <td>5032</td>\n",
       "      <td>11057055</td>\n",
       "      <td>24.0</td>\n",
       "      <td>23.0</td>\n",
       "      <td>27.0</td>\n",
       "      <td>28.0</td>\n",
       "      <td>2.0</td>\n",
       "    </tr>\n",
       "  </tbody>\n",
       "</table>\n",
       "</div>"
      ],
      "text/plain": [
       "        DATE SALES_ORGANIZATION_CODE MATERIAL_CODE INDUSTRY_CODE  \\\n",
       "0 2024-10-01                    5000       2568531          5032   \n",
       "1 2024-10-01                    5000       2568531          5032   \n",
       "\n",
       "  CUSTOMER_CODE  Gross   Net  Net VAT  Gross VAT  Units  \n",
       "0      11057044   12.0  12.0     14.0       14.0    1.0  \n",
       "1      11057055   24.0  23.0     27.0       28.0    2.0  "
      ]
     },
     "execution_count": 8,
     "metadata": {},
     "output_type": "execute_result"
    }
   ],
   "source": [
    "inv_df.head(2)\n",
    "# - `DATE`: The date of the invoice.\n",
    "# - `SALES_ORGANIZATION_CODE`The internal business unit code at Diplomat. Values include: '1000' - Israel, '5000' - Georgia, '8000' - South Africa, 'NZ00' - New Zealand.\n",
    "# - `MATERIAL_CODE`: The internal identifier of the product (material) sold.\n",
    "# - `INDUSTRY_CODE`:  The industry classification of the customer by Diplomat.\n",
    "# - 'CUSTOMER_CODE':  The unique ID of the customer that received the goods.\n",
    "# - 'Gross': Gross sales amount (before discounts and tax).\n",
    "# - 'Net': Net sales amount (after discounts, before tax).\n",
    "# - 'Net VAT':  Net sales amount including VAT.\n",
    "# - 'Gross VAT':  Gross sales amount including VAT.\n",
    "# - 'Units': Quantity of product units sold.\n",
    "\n",
    "# - To connect this data to external market datasets (like chp or stnx), you must use a material-to-barcode mapping from the material_df table.\n"
   ]
  },
  {
   "cell_type": "markdown",
   "metadata": {},
   "source": [
    "##### Materials"
   ]
  },
  {
   "cell_type": "code",
   "execution_count": 9,
   "metadata": {},
   "outputs": [
    {
     "data": {
      "text/html": [
       "<div>\n",
       "<style scoped>\n",
       "    .dataframe tbody tr th:only-of-type {\n",
       "        vertical-align: middle;\n",
       "    }\n",
       "\n",
       "    .dataframe tbody tr th {\n",
       "        vertical-align: top;\n",
       "    }\n",
       "\n",
       "    .dataframe thead th {\n",
       "        text-align: right;\n",
       "    }\n",
       "</style>\n",
       "<table border=\"1\" class=\"dataframe\">\n",
       "  <thead>\n",
       "    <tr style=\"text-align: right;\">\n",
       "      <th></th>\n",
       "      <th>MATERIAL_NUMBER</th>\n",
       "      <th>MATERIAL_EN</th>\n",
       "      <th>MATERIAL_HE</th>\n",
       "      <th>MATERIAL_DIVISION</th>\n",
       "      <th>BRAND_HEB</th>\n",
       "      <th>BRAND_ENG</th>\n",
       "      <th>SUB_BRAND_HEB</th>\n",
       "      <th>SUB_BRAND_ENG</th>\n",
       "      <th>CATEGORY_HEB</th>\n",
       "      <th>CATEGORY_ENG</th>\n",
       "      <th>BARCODE_EA</th>\n",
       "      <th>SALES_UNIT</th>\n",
       "      <th>BOXING_SIZE</th>\n",
       "    </tr>\n",
       "  </thead>\n",
       "  <tbody>\n",
       "    <tr>\n",
       "      <th>0</th>\n",
       "      <td>81582598</td>\n",
       "      <td>NA</td>\n",
       "      <td>NA</td>\n",
       "      <td>NA</td>\n",
       "      <td>NA</td>\n",
       "      <td>NA</td>\n",
       "      <td>NA</td>\n",
       "      <td>NA</td>\n",
       "      <td>NA</td>\n",
       "      <td>NA</td>\n",
       "      <td>NA</td>\n",
       "      <td>None</td>\n",
       "      <td>NaN</td>\n",
       "    </tr>\n",
       "    <tr>\n",
       "      <th>1</th>\n",
       "      <td>81582625</td>\n",
       "      <td>NA</td>\n",
       "      <td>NA</td>\n",
       "      <td>NA</td>\n",
       "      <td>NA</td>\n",
       "      <td>NA</td>\n",
       "      <td>NA</td>\n",
       "      <td>NA</td>\n",
       "      <td>NA</td>\n",
       "      <td>NA</td>\n",
       "      <td>NA</td>\n",
       "      <td>None</td>\n",
       "      <td>NaN</td>\n",
       "    </tr>\n",
       "  </tbody>\n",
       "</table>\n",
       "</div>"
      ],
      "text/plain": [
       "  MATERIAL_NUMBER MATERIAL_EN MATERIAL_HE MATERIAL_DIVISION BRAND_HEB  \\\n",
       "0        81582598          NA          NA                NA        NA   \n",
       "1        81582625          NA          NA                NA        NA   \n",
       "\n",
       "  BRAND_ENG SUB_BRAND_HEB SUB_BRAND_ENG CATEGORY_HEB CATEGORY_ENG BARCODE_EA  \\\n",
       "0        NA            NA            NA           NA           NA         NA   \n",
       "1        NA            NA            NA           NA           NA         NA   \n",
       "\n",
       "  SALES_UNIT  BOXING_SIZE  \n",
       "0       None          NaN  \n",
       "1       None          NaN  "
      ]
     },
     "execution_count": 9,
     "metadata": {},
     "output_type": "execute_result"
    }
   ],
   "source": [
    "material_df.head(2)\n",
    "# - `MATERIAL_NUMBER`: The internal identifier for a product (primary key used in inv_df).\n",
    "# - `MATERIAL_EN`: Product name in English. \n",
    "# - `MATERIAL_HE`: Product name in Hebrew.\n",
    "# - `MATERIAL_DIVISION`:  Division or product type (e.g., food, toiletries).\n",
    "# - 'BRAND_HEB': Brand name in Hebrew.\n",
    "# - 'BRAND_ENG':  Brand name in English.\n",
    "# - 'SUB_BRAND_HEB': Sub-brand in Hebrew.\n",
    "# - 'SUB_BRAND_ENG': Sub-brand in English.\n",
    "# - 'CATEGORY_HEB': Product category in Hebrew.\n",
    "# - 'CATEGORY_ENG':  Product category in English.\n",
    "# - 'SUPPLIER_HEB': Supplier name in Hebrew.\n",
    "# - 'SUPPLIER_ENG': Supplier name in English.\n",
    "# - 'BARCODE_EA':  The barcode of a single unit of the item.\n",
    "# - 'SALES_UNIT': The unit of sale (e.g., pack, bottle).\n",
    "# - 'BOXING_SIZE': : Number of individual units included in a sales unit."
   ]
  },
  {
   "cell_type": "markdown",
   "metadata": {},
   "source": [
    "##### Customers"
   ]
  },
  {
   "cell_type": "code",
   "execution_count": 10,
   "metadata": {},
   "outputs": [
    {
     "data": {
      "text/html": [
       "<div>\n",
       "<style scoped>\n",
       "    .dataframe tbody tr th:only-of-type {\n",
       "        vertical-align: middle;\n",
       "    }\n",
       "\n",
       "    .dataframe tbody tr th {\n",
       "        vertical-align: top;\n",
       "    }\n",
       "\n",
       "    .dataframe thead th {\n",
       "        text-align: right;\n",
       "    }\n",
       "</style>\n",
       "<table border=\"1\" class=\"dataframe\">\n",
       "  <thead>\n",
       "    <tr style=\"text-align: right;\">\n",
       "      <th></th>\n",
       "      <th>CUSTOMER_CODE</th>\n",
       "      <th>CUSTOMER</th>\n",
       "      <th>CITY</th>\n",
       "      <th>CUSTOMER_ADDRESS</th>\n",
       "      <th>CUST_LATITUDE</th>\n",
       "      <th>CUST_LONGITUDE</th>\n",
       "    </tr>\n",
       "  </thead>\n",
       "  <tbody>\n",
       "    <tr>\n",
       "      <th>0</th>\n",
       "      <td>1000</td>\n",
       "      <td>דיפלומט מפיצים (1968) בע\"מ</td>\n",
       "      <td>קרית שדה התעופה</td>\n",
       "      <td>חרמון 4</td>\n",
       "      <td>31.9869</td>\n",
       "      <td>34.9154</td>\n",
       "    </tr>\n",
       "    <tr>\n",
       "      <th>3</th>\n",
       "      <td>10000</td>\n",
       "      <td>הוד גיל</td>\n",
       "      <td>NA</td>\n",
       "      <td>NA</td>\n",
       "      <td>NA</td>\n",
       "      <td>NA</td>\n",
       "    </tr>\n",
       "  </tbody>\n",
       "</table>\n",
       "</div>"
      ],
      "text/plain": [
       "  CUSTOMER_CODE                     CUSTOMER             CITY  \\\n",
       "0          1000  דיפלומט מפיצים (1968) בע\"מ   קרית שדה התעופה   \n",
       "3         10000                     הוד גיל                NA   \n",
       "\n",
       "  CUSTOMER_ADDRESS CUST_LATITUDE CUST_LONGITUDE  \n",
       "0          חרמון 4       31.9869        34.9154  \n",
       "3               NA            NA             NA  "
      ]
     },
     "execution_count": 10,
     "metadata": {},
     "output_type": "execute_result"
    }
   ],
   "source": [
    "customer_df.head(2)\n",
    "# - 'CUSTOMER_CODE': The unique identifier of the customer (primary key).\n",
    "# - 'CUSTOMER': The name of the customer or business entity.\n",
    "# - 'CITY':  The city where the customer is located.\n",
    "# - 'CUSTOMER_ADDRESS':   The full address of the customer.\n",
    "# - 'CUST_LATITUDE': The geographical latitude coordinate of the customer's location.\n",
    "# - 'CUST_LONGITUDE': The geographical longitude coordinate of the customer's location."
   ]
  }
 ],
 "metadata": {
  "kernelspec": {
   "display_name": "doleva",
   "language": "python",
   "name": "python3"
  },
  "language_info": {
   "codemirror_mode": {
    "name": "ipython",
    "version": 3
   },
   "file_extension": ".py",
   "mimetype": "text/x-python",
   "name": "python",
   "nbconvert_exporter": "python",
   "pygments_lexer": "ipython3",
   "version": "3.10.16"
  }
 },
 "nbformat": 4,
 "nbformat_minor": 2
}
