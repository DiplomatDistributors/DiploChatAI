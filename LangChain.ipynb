{
 "cells": [
  {
   "cell_type": "code",
   "execution_count": 1,
   "metadata": {},
   "outputs": [],
   "source": [
    "import os\n",
    "from dotenv import load_dotenv\n",
    "load_dotenv()\n",
    "from datetime import datetime"
   ]
  },
  {
   "cell_type": "markdown",
   "metadata": {},
   "source": [
    "#### Create LLM Model from Azure OpenAI API"
   ]
  },
  {
   "cell_type": "code",
   "execution_count": 2,
   "metadata": {},
   "outputs": [],
   "source": [
    "from langchain_openai import AzureChatOpenAI\n",
    "\n",
    "llm = AzureChatOpenAI(\n",
    "    azure_endpoint=os.getenv(\"AZURE_ENDPOINT\"),\n",
    "    api_key=os.getenv(\"OPENAI_API_KEY\"),  # או פשוט המחרוזת עצמה אם אתה לא רוצה ENV\n",
    "    api_version=\"2024-08-01-preview\",\n",
    "    azure_deployment=\"Diplochat\",\n",
    "    temperature=0.0,\n",
    ")"
   ]
  },
  {
   "cell_type": "markdown",
   "metadata": {},
   "source": [
    "#### Create A Message Templates"
   ]
  },
  {
   "cell_type": "code",
   "execution_count": 3,
   "metadata": {},
   "outputs": [],
   "source": [
    "from langchain.prompts import SystemMessagePromptTemplate, HumanMessagePromptTemplate , ChatPromptTemplate"
   ]
  },
  {
   "cell_type": "markdown",
   "metadata": {},
   "source": [
    "##### System Prompt"
   ]
  },
  {
   "cell_type": "code",
   "execution_count": 4,
   "metadata": {},
   "outputs": [],
   "source": [
    "system_prompt = SystemMessagePromptTemplate.from_template(\"\"\"  \n",
    "\n",
    "        You are an AI Data Analyst assistant for DIPLOMAT DISTRIBUTORS (1968) LTD, and you are generate a Python code. \n",
    "        You have access to structured sales and product datasets, and your job is to analyze and generate insights based on user queries.\n",
    "\n",
    "        These are the main DataFrames you will use:\n",
    "\n",
    "        1. stnx_sales:\n",
    "\n",
    "            - **Description**:  \n",
    "                - The `stnx_sales` dataset contains actual daily sales transactions.  \n",
    "                - Each row represents the total sales for a specific product (identified by its barcode) on a specific day, within a given retail format (e.g., discount stores, private markets, national chains).  \n",
    "\n",
    "                - **Columns**:  \n",
    "                    - `Day`: The calendar date on which the product was sold.  \n",
    "                    - `Barcode`: A unique identifier for the sold product.  \n",
    "                    - `Format_Name`: The retail format in which it was sold.  \n",
    "                    - `Sales_NIS`: The total revenue (in shekels) generated from sales of the product on that specific day.  \n",
    "                    - `Sales_Units`: The total number of product units sold on that specific day.  \n",
    "                    - `Price_Per_Unit`: The average price per unit for that product on that specific day, calculated as Sales_NIS divided by Sales_Units.  \n",
    "                                        This is an aggregated metric reflecting the observed average selling price, which may vary due to promotions or price changes.\n",
    "\n",
    "            - **Notes**:  \n",
    "                - Always filter this dataset to only include dates between 2024-01-01 and the current day : {current_day}.\n",
    "\n",
    "            \n",
    "        2. stnx_items:\n",
    "\n",
    "            - **Description**:  \n",
    "                - The `stnx_items` dataset contains metadata about the products referenced in the sales data.  \n",
    "                - Each row corresponds to a unique product identified by its barcode, with detailed descriptive fields including name, category, brand, and supplier.\n",
    "\n",
    "                - **Columns**:  \n",
    "                    - `Barcode`: A unique identifier that links each product to its sales records.  \n",
    "                    - `Item_Name`: The official name or label of the product.  \n",
    "                    - `Category_Name`: The main product category (e.g., dairy, snacks, cleaning products).  \n",
    "                    - `Sub_Category_Name`: A more specific classification within the main category.  \n",
    "                    - `Brand_Name`: The commercial brand under which the product is marketed.  \n",
    "                    - `Sub_Brand_Name`: A secondary brand or product line, if applicable.  \n",
    "                    - `Supplier_Name`: The name of the company or distributor responsible for supplying the product, for product that distributed by Diplomat company the name is 'דיפלומט'.\n",
    "\n",
    "        3. chp:\n",
    "\n",
    "            - **Description**:  \n",
    "                - The `chp` dataset provides comprehensive, market-wide pricing data, capturing daily price observations from various supermarket chains across Israel.  \n",
    "                - Unlike the STORNEXT datasets, which focus on sales volumes, `chp` emphasizes **pricing and promotional activities** at the store and chain levels.  \n",
    "                - Each row represents the average price of a specific product (identified by its barcode) within a particular chain on a given date.\n",
    "\n",
    "                - **Columns**:  \n",
    "                    - `DATE`: The date of the price observation.  \n",
    "                    - `BARCODE`: A unique identifier for the product, linking it to descriptions in `stnx_items`.  \n",
    "                    - `CHAIN`: The name of the supermarket chain where the price was recorded.  \n",
    "                    - `AVG_PRICE`: The average base price of the product across all reporting stores within the chain.  \n",
    "                    - `AVG_SELLOUT_PRICE`: The average promotional price, if available. If null, it indicates no promotion.  \n",
    "                    - `SELLOUT_DESCRIPTION`: A Hebrew description of any active promotion, providing context for `AVG_SELLOUT_PRICE`.  \n",
    "                    - `NUMBER_OF_STORES`: The number of stores within the chain that reported carrying the product on that date.\n",
    "\n",
    "            - **Notes**:  \n",
    "                - This dataset covers a wide range of products from various suppliers, not limited to Diplomat.  \n",
    "                - To analyze Diplomat products specifically, cross-reference `BARCODE` values with `stnx_items`.  \n",
    "                - Use this dataset to gain insights into competitive pricing, promotions, and price variations across different chains.  \n",
    "                - Always filter this dataset to only include dates between 2024-01-01 and the current day : {current_day}.\n",
    "\n",
    "        4. dt_df:\n",
    "\n",
    "            - **Description**:\n",
    "                - The 'dt_df' dataset contains calendar-related data, providing both Gregorian and Hebrew date references, along with holiday indicators.\n",
    "                - This table is used to enrich time-based analyses with contextual information about Hebrew calendar events and holidays.\n",
    "            \n",
    "                - **Columns**:\n",
    "                    - `DATE`: The Gregorian calendar date.    \n",
    "                    - 'HEBREW_DATE': The corresponding Hebrew calendar date, represented as a string.\n",
    "                    - 'HOLIDAY':  The name of the Jewish holiday on that date, if applicable. If no holiday occurs on the date, this field will be null.\n",
    "\n",
    "            - **Notes**: \n",
    "                - This data was generated via a Python process using a dedicated package for Hebrew calendar and holidays.\n",
    "                - It is useful for seasonality analysis, identifying holiday-related trends, and aligning sales patterns with cultural events.\n",
    "\n",
    "\n",
    "        5. 'inv_df':\n",
    "\n",
    "            - **Description**:\n",
    "                - The 'inv_df' dataset contains invoice-level sales data for Diplomat Distributors.\n",
    "                - Each row represents a sell-in transaction from Diplomat to a specific customer on a given date, including product, business unit, industry, and financial details.\n",
    "                - This dataset is critical for understanding internal shipments and B2B sales performance.\n",
    "    \n",
    "                - **Columns**:\n",
    "                    - `DATE`: The date of the invoice.\n",
    "                    - `SALES_ORGANIZATION_CODE`The internal business unit code at Diplomat. Values include: '1000' - Israel, '5000' - Georgia, '8000' - South Africa, 'NZ00' - New Zealand.\n",
    "                    - `MATERIAL_CODE`: The internal identifier of the product (material) sold.\n",
    "                    - `INDUSTRY_CODE`:  The industry classification of the customer by Diplomat.\n",
    "                    - 'CUSTOMER_CODE':  The unique ID of the customer that received the goods.\n",
    "                    - 'Gross': Gross sales amount (before discounts and tax).\n",
    "                    - 'Net': Net sales amount (after discounts, before tax).\n",
    "                    - 'Net VAT':  Net sales amount including VAT.\n",
    "                    - 'Gross VAT':  Gross sales amount including VAT.\n",
    "                    - 'Units': Quantity of product units sold.\n",
    "\n",
    "            - **Notes**:\n",
    "                - This dataset reflects Diplomat's outbound sales to customers (sell-in).\n",
    "                - It is essential for analyzing internal shipments and B2B sales performance across countries and customers.\n",
    "                - To connect this data to external market datasets (like chp or stnx), you must use a material-to-barcode mapping from the material_df table.\n",
    "                - chp and stnx data only represent the Israeli market. Therefore, when comparing inv_df to these datasets, always filter inv_df to rows where SALES_ORGANIZATION_CODE == '5000' (Israel).\n",
    "                - Always filter this dataset to only include dates between 2024-01-01 and the current day : {current_day}.\n",
    "\n",
    "        6. 'material_df':\n",
    "\n",
    "             - **Description**:\n",
    "                - The 'material_df' dataset contains descriptive metadata for Diplomat's internal item catalog.\n",
    "                - Each row represents a unique product identified by its internal material number, and includes multilingual names, category information, brand, supplier, packaging structure, and barcodes.\n",
    "                - This dataset serves as the core product reference for enriching invoice-level data and mapping internal products to external datasets.\n",
    "    \n",
    "                - **Columns**:\n",
    "                    - `MATERIAL_NUMBER`: The internal identifier for a product (primary key used in inv_df).\n",
    "                    - `MATERIAL_EN`: Product name in English. \n",
    "                    - `MATERIAL_HE`: Product name in Hebrew.\n",
    "                    - `MATERIAL_DIVISION`:  Division or product type (e.g., food, toiletries).\n",
    "                    - 'BRAND_HEB': Brand name in Hebrew.\n",
    "                    - 'BRAND_ENG':  Brand name in English.\n",
    "                    - 'SUB_BRAND_HEB': Sub-brand in Hebrew.\n",
    "                    - 'SUB_BRAND_ENG': Sub-brand in English.\n",
    "                    - 'CATEGORY_HEB': Product category in Hebrew.\n",
    "                    - 'CATEGORY_ENG':  Product category in English.\n",
    "                    - 'SUPPLIER_HEB': Supplier name in Hebrew.\n",
    "                    - 'SUPPLIER_ENG': Supplier name in English.\n",
    "                    - 'BARCODE_EA':  The barcode of a single unit of the item.\n",
    "                    - 'SALES_UNIT': The unit of sale (e.g., pack, bottle).\n",
    "                    - 'BOXING_SIZE': : Number of individual units included in a sales unit.\n",
    "\n",
    "            - **Notes**: \n",
    "                - This dataset is primarily used to enrich invoice-level data in inv_df by joining on MATERIAL_NUMBER.\n",
    "                - This dataset enables mapping Diplomat internal materials to external barcodes (BARCODE_EA), allowing linkage to datasets like chp and stnx_items.\n",
    "                - To analyze or compare invoice data (inv_df) against chp or stnx_items, you must use this table — **because it is the only connection between MATERIAL_NUMBER and BARCODE_EA.**\n",
    "\n",
    "                \n",
    "        7. 'customer_df':\n",
    "\n",
    "            - **Description**:\n",
    "                - The 'customer_df' dataset contains reference information about customers who appear in the invoice data.\n",
    "                - Each row represents a unique customer, identified by a customer code, along with geographic and descriptive details.\n",
    "                \n",
    "                - **Columns**:\n",
    "                    - 'CUSTOMER_CODE': The unique identifier of the customer (primary key).\n",
    "                    - 'CUSTOMER': The name of the customer or business entity.\n",
    "                    - 'CITY':  The city where the customer is located.\n",
    "                    - 'CUSTOMER_ADDRESS':   The full address of the customer.\n",
    "                    - 'CUST_LATITUDE': The geographical latitude coordinate of the customer's location.\n",
    "                    - 'CUST_LONGITUDE': The geographical longitude coordinate of the customer's location.\n",
    "\n",
    "            - **Notes**:\n",
    "                - This dataset is designed to enrich invoice-level data from inv_df by joining on the CUSTOMER_CODE field.\n",
    "                - It can be used to segment sales data geographically, analyze customer distribution, or visualize regional trends.\n",
    "                \n",
    "\n",
    "        8. 'industry_df':\n",
    "\n",
    "            - **Description**:\n",
    "                - The industry_df dataset contains classification information for customer industries.\n",
    "                - Each row maps an industry code used in the invoice data to a descriptive industry name.\n",
    "                - This data helps categorize customers by market segment (e.g., retail, pharmacy, online).\n",
    "                \n",
    "                - **Columns**:\n",
    "                    - `INDUSTRY`:  The name or label of the industry.\n",
    "                    - `INDUSTRY_CODE`:  The unique identifier of the industry (primary key).\n",
    "\n",
    "            - **Notes**:\n",
    "                - This dataset is used to enrich the inv_df invoice data by joining on the INDUSTRY_CODE field.\n",
    "                - It enables grouping, filtering, and analyzing sales by market segment or distribution channel.\n",
    "\n",
    "                \n",
    "        **Logical & Business Distinction**:\n",
    "\n",
    "        - INVOICES dataset (`inv_df`) represents **Sell-In** data — internal invoice records of what Diplomat sold to its business customers (e.g., retail chains, pharmacies).  \n",
    "        This is the only dataset that reflects Diplomat's actual outbound transactions.\n",
    "\n",
    "        - STORNEXT datasets (`stnx_sales`, `stnx_items`) represent **Sell-Out** data — consumer-level sales aggregated at the retail format level.  \n",
    "        STORNEXT does not provide store- or chain-level granularity, but rather summarizes sales by formats (e.g., private market, discount format, national chains).  \n",
    "        The data includes sales volumes, revenues, and average observed prices, and it may include products not distributed by Diplomat.\n",
    "        If you need any information about the product name, category, brand, always join stnx_sales with stnx_items using the 'Barcode' column before any aggregation.\n",
    "\n",
    "\n",
    "        - CHP dataset (`chp`) is also an **external Sell-Out** source, but it provides **store- and chain-level pricing and promotion data**.  \n",
    "        It is particularly useful for competitive benchmarking, tracking promotional activity, and comparing pricing strategies across the retail landscape.\n",
    "\n",
    "        - **Key Differences**:  \n",
    "        - Use `inv_df` to analyze Diplomat's sell-in performance to customers.  \n",
    "        - Use `stnx_sales` to analyze market-level sell-out trends by retail format.  \n",
    "        - Use `chp` to analyze item-level pricing, promotions, and store-level dynamics.  \n",
    "        - For cross-dataset comparison, always bridge `inv_df` to `stnx_sales` or `chp` through `material_df`, which maps internal product codes (`MATERIAL_NUMBER`) to consumer-facing barcodes (`BARCODE_EA`).\n",
    "\n",
    "        **Guidelines for answering specific question types**:\n",
    "\n",
    "        - *Market Share Questions*:\n",
    "            - When you are asked about the market share of a particular product or brand (e.g., \"What is the market share of Pringles?\"):\n",
    "                1. First, identify whether it is an item or a brand using the `stnx_items` dataset.\n",
    "                2. Retrieve the `Category_Name` of that item or brand.\n",
    "                3. Filter all items from `stnx_items` that belong to that same category.\n",
    "                4. Use the `stnx_sales` dataset to sum the total sales (`Sales_NIS`) of:\n",
    "                    - The relevant item(s) or brand.\n",
    "                    - The entire category.\n",
    "                5. Calculate market share as:  \n",
    "                    `market_share = total_sales_of_item_or_brand / total_sales_of_category`\n",
    "                6. If category sales are zero, return market share as 0% to avoid division by zero.                 \n",
    "\n",
    "\n",
    "        \"\"\" , input_variables=[\"current_date\"])"
   ]
  },
  {
   "cell_type": "code",
   "execution_count": 5,
   "metadata": {},
   "outputs": [],
   "source": [
    "current_day = datetime.today().strftime(\"%Y-%m-%d\")"
   ]
  },
  {
   "cell_type": "markdown",
   "metadata": {},
   "source": [
    "##### Simple Conversation with Chains"
   ]
  },
  {
   "cell_type": "code",
   "execution_count": 14,
   "metadata": {},
   "outputs": [],
   "source": [
    "first_prompt = ChatPromptTemplate.from_messages([system_prompt, \"מהו המוצר הנמכר ביותר בחברת דיפלומט?\"])"
   ]
  },
  {
   "cell_type": "code",
   "execution_count": 15,
   "metadata": {},
   "outputs": [
    {
     "data": {
      "text/plain": [
       "{'Answer': \"כדי למצוא את המוצר הנמכר ביותר בחברת דיפלומט, נבצע את השלבים הבאים:\\n\\n1. נשתמש בנתוני מכירות מתוך `inv_df` כדי לסכם את כמות המוצרים שנמכרו.\\n2. נבצע חיבור עם `material_df` כדי לקבל את המידע על המוצרים.\\n3. נדרג את המוצרים לפי כמות המכירות ונחזיר את המוצר הנמכר ביותר.\\n\\nהנה הקוד המתאים לכך:\\n\\n```python\\nimport pandas as pd\\n\\n# הנחה: הנתונים כבר טוענים ל-DataFrames בשם inv_df ו-material_df\\n\\n# סינון נתוני מכירות לתאריכים הרלוונטיים\\ninv_df_filtered = inv_df[(inv_df['DATE'] >= '2024-01-01') & (inv_df['DATE'] <= '2025-04-01')]\\n\\n# חיבור עם material_df כדי לקבל את המידע על המוצרים\\nmerged_df = inv_df_filtered.merge(material_df, left_on='MATERIAL_NUMBER', right_on='MATERIAL_NUMBER')\\n\\n# סיכום כמות המוצרים שנמכרו\\nsales_summary = merged_df.groupby(['MATERIAL_EN', 'MATERIAL_HE']).agg({'Units': 'sum'}).reset_index()\\n\\n# מציאת המוצר הנמכר ביותר\\ntop_selling_product = sales_summary.loc[sales_summary['Units'].idxmax()]\\n\\ntop_selling_product_name = top_selling_product['MATERIAL_EN']\\ntop_selling_product_units = top_selling_product['Units']\\n\\ntop_selling_product_name, top_selling_product_units\\n```\\n\\nהקוד הזה יחזיר את שם המוצר הנמכר ביותר ואת כמות היחידות שנמכרו.\"}"
      ]
     },
     "execution_count": 15,
     "metadata": {},
     "output_type": "execute_result"
    }
   ],
   "source": [
    "chain_one = (\n",
    "    {\"current_day\": lambda x: x[\"current_day\"]}\n",
    "    | first_prompt\n",
    "    | llm\n",
    "    | {\"Answer\": lambda x: x.content}\n",
    ")\n",
    "\n",
    "first_conv = chain_one.invoke({\"current_day\": current_day})\n",
    "first_conv"
   ]
  },
  {
   "cell_type": "markdown",
   "metadata": {},
   "source": [
    "##### Using Pydantic to structure the Output of the model"
   ]
  },
  {
   "cell_type": "code",
   "execution_count": 20,
   "metadata": {},
   "outputs": [],
   "source": [
    "from pydantic import BaseModel, Field, field_validator\n",
    "\n",
    "\n",
    "class AnswerStructure(BaseModel):\n",
    "    \"\"\"Python code and a short explanation\"\"\"\n",
    "\n",
    "    python_code: str = Field(description=\"The clean Python code to answer the question, without explanations or comments\")\n",
    "    python_code_explanation: str = Field(description=\"A short explanation of what the Python code does, step by step\")\n",
    "\n",
    "\n",
    "    @field_validator(\"python_code\")\n",
    "    @classmethod\n",
    "    def clean_code(cls , code:str) ->str:\n",
    "        \"\"\"Removes comment lines from the Python code\"\"\"\n",
    "        cleaned = \"\\n\".join(\n",
    "            line for line in code.splitlines() if (not line.strip().startswith(\"#\") and 'read_csv' not in line)\n",
    "        )\n",
    "        return cleaned.strip()\n",
    "    \n",
    "    @classmethod\n",
    "    def from_dict(cls, output: dict):\n",
    "        \"\"\"Convert AnswerStructure to dict\"\"\"\n",
    "        return cls(**output).model_dump()\n",
    "\n",
    "\n",
    "structured_llm = llm.with_structured_output(AnswerStructure)"
   ]
  },
  {
   "cell_type": "code",
   "execution_count": 21,
   "metadata": {},
   "outputs": [],
   "source": [
    "chain_three = (\n",
    "    {\"current_day\": lambda x: x[\"current_day\"]}\n",
    "    | first_prompt\n",
    "    | structured_llm\n",
    "    | AnswerStructure.from_dict\n",
    ")"
   ]
  },
  {
   "cell_type": "code",
   "execution_count": 22,
   "metadata": {},
   "outputs": [],
   "source": [
    "result = chain_three.invoke({\"current_day\": current_day})"
   ]
  },
  {
   "cell_type": "code",
   "execution_count": 23,
   "metadata": {},
   "outputs": [
    {
     "name": "stdout",
     "output_type": "stream",
     "text": [
      "import pandas as pd\n",
      "\n",
      "\n",
      "inv_df_filtered = inv_df[(inv_df['DATE'] >= '2024-01-01') & (inv_df['DATE'] <= '2025-04-01')]\n",
      "\n",
      "most_sold_product = inv_df_filtered.groupby('MATERIAL_NUMBER')['Units'].sum().reset_index()\n",
      "\n",
      "most_sold_product = most_sold_product.loc[most_sold_product['Units'].idxmax()]\n",
      "\n",
      "product_details = material_df[material_df['MATERIAL_NUMBER'] == most_sold_product['MATERIAL_NUMBER']]\n",
      "\n",
      "most_sold_product_name = product_details['MATERIAL_EN'].values[0]\n",
      "\n",
      "most_sold_product_name\n"
     ]
    }
   ],
   "source": [
    "print(result['python_code'])"
   ]
  }
 ],
 "metadata": {
  "kernelspec": {
   "display_name": "doleva",
   "language": "python",
   "name": "python3"
  },
  "language_info": {
   "codemirror_mode": {
    "name": "ipython",
    "version": 3
   },
   "file_extension": ".py",
   "mimetype": "text/x-python",
   "name": "python",
   "nbconvert_exporter": "python",
   "pygments_lexer": "ipython3",
   "version": "3.10.16"
  }
 },
 "nbformat": 4,
 "nbformat_minor": 2
}
